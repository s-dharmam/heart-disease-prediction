{
 "metadata": {
  "language_info": {
   "codemirror_mode": {
    "name": "ipython",
    "version": 3
   },
   "file_extension": ".py",
   "mimetype": "text/x-python",
   "name": "python",
   "nbconvert_exporter": "python",
   "pygments_lexer": "ipython3",
   "version": "3.8.5-final"
  },
  "orig_nbformat": 2,
  "kernelspec": {
   "name": "python38564bit4fbbfeabca3c483aa2e3c1230932bbd0",
   "display_name": "Python 3.8.5 64-bit"
  }
 },
 "nbformat": 4,
 "nbformat_minor": 2,
 "cells": [
  {
   "cell_type": "code",
   "execution_count": 120,
   "metadata": {},
   "outputs": [],
   "source": [
    "import pandas as pd\n",
    "import numpy as np "
   ]
  },
  {
   "cell_type": "code",
   "execution_count": 121,
   "metadata": {},
   "outputs": [
    {
     "output_type": "execute_result",
     "data": {
      "text/plain": "   age  sex  cp  trestbps  chol  fbs  restecg  thalach  exang  oldpeak  slope  \\\n0   63    1   3       145   233    1        0      150      0      2.3      0   \n1   37    1   2       130   250    0        1      187      0      3.5      0   \n2   41    0   1       130   204    0        0      172      0      1.4      2   \n3   56    1   1       120   236    0        1      178      0      0.8      2   \n4   57    0   0       120   354    0        1      163      1      0.6      2   \n\n   ca  thal  target  \n0   0     1       1  \n1   0     2       1  \n2   0     2       1  \n3   0     2       1  \n4   0     2       1  ",
      "text/html": "<div>\n<style scoped>\n    .dataframe tbody tr th:only-of-type {\n        vertical-align: middle;\n    }\n\n    .dataframe tbody tr th {\n        vertical-align: top;\n    }\n\n    .dataframe thead th {\n        text-align: right;\n    }\n</style>\n<table border=\"1\" class=\"dataframe\">\n  <thead>\n    <tr style=\"text-align: right;\">\n      <th></th>\n      <th>age</th>\n      <th>sex</th>\n      <th>cp</th>\n      <th>trestbps</th>\n      <th>chol</th>\n      <th>fbs</th>\n      <th>restecg</th>\n      <th>thalach</th>\n      <th>exang</th>\n      <th>oldpeak</th>\n      <th>slope</th>\n      <th>ca</th>\n      <th>thal</th>\n      <th>target</th>\n    </tr>\n  </thead>\n  <tbody>\n    <tr>\n      <th>0</th>\n      <td>63</td>\n      <td>1</td>\n      <td>3</td>\n      <td>145</td>\n      <td>233</td>\n      <td>1</td>\n      <td>0</td>\n      <td>150</td>\n      <td>0</td>\n      <td>2.3</td>\n      <td>0</td>\n      <td>0</td>\n      <td>1</td>\n      <td>1</td>\n    </tr>\n    <tr>\n      <th>1</th>\n      <td>37</td>\n      <td>1</td>\n      <td>2</td>\n      <td>130</td>\n      <td>250</td>\n      <td>0</td>\n      <td>1</td>\n      <td>187</td>\n      <td>0</td>\n      <td>3.5</td>\n      <td>0</td>\n      <td>0</td>\n      <td>2</td>\n      <td>1</td>\n    </tr>\n    <tr>\n      <th>2</th>\n      <td>41</td>\n      <td>0</td>\n      <td>1</td>\n      <td>130</td>\n      <td>204</td>\n      <td>0</td>\n      <td>0</td>\n      <td>172</td>\n      <td>0</td>\n      <td>1.4</td>\n      <td>2</td>\n      <td>0</td>\n      <td>2</td>\n      <td>1</td>\n    </tr>\n    <tr>\n      <th>3</th>\n      <td>56</td>\n      <td>1</td>\n      <td>1</td>\n      <td>120</td>\n      <td>236</td>\n      <td>0</td>\n      <td>1</td>\n      <td>178</td>\n      <td>0</td>\n      <td>0.8</td>\n      <td>2</td>\n      <td>0</td>\n      <td>2</td>\n      <td>1</td>\n    </tr>\n    <tr>\n      <th>4</th>\n      <td>57</td>\n      <td>0</td>\n      <td>0</td>\n      <td>120</td>\n      <td>354</td>\n      <td>0</td>\n      <td>1</td>\n      <td>163</td>\n      <td>1</td>\n      <td>0.6</td>\n      <td>2</td>\n      <td>0</td>\n      <td>2</td>\n      <td>1</td>\n    </tr>\n  </tbody>\n</table>\n</div>"
     },
     "metadata": {},
     "execution_count": 121
    }
   ],
   "source": [
    "df=pd.read_csv(\"dataset_heart.csv\")\n",
    "df.head()"
   ]
  },
  {
   "cell_type": "code",
   "execution_count": 122,
   "metadata": {},
   "outputs": [
    {
     "output_type": "execute_result",
     "data": {
      "text/plain": "age          54.366337\nsex           0.683168\ncp            0.966997\ntrestbps    131.623762\nchol        246.264026\nfbs           0.148515\nrestecg       0.528053\nthalach     149.646865\nexang         0.326733\noldpeak       1.039604\nslope         1.399340\nca            0.729373\nthal          2.313531\ntarget        0.544554\ndtype: float64"
     },
     "metadata": {},
     "execution_count": 122
    }
   ],
   "source": [
    "df.mean()"
   ]
  },
  {
   "cell_type": "code",
   "execution_count": 123,
   "metadata": {},
   "outputs": [
    {
     "output_type": "execute_result",
     "data": {
      "text/plain": "     age  sex  cp  trestbps  chol  fbs  restecg  thalach  exang  oldpeak  ...  \\\n0     63    1   3       145   233    1        0      150      0      2.3  ...   \n1     37    1   2       130   250    0        1      187      0      3.5  ...   \n2     41    0   1       130   204    0        0      172      0      1.4  ...   \n3     56    1   1       120   236    0        1      178      0      0.8  ...   \n4     57    0   0       120   354    0        1      163      1      0.6  ...   \n..   ...  ...  ..       ...   ...  ...      ...      ...    ...      ...  ...   \n298   57    0   0       140   241    0        1      123      1      0.2  ...   \n299   45    1   3       110   264    0        1      132      0      1.2  ...   \n300   68    1   0       144   193    1        1      141      0      3.4  ...   \n301   57    1   0       130   131    0        1      115      1      1.2  ...   \n302   57    0   1       130   236    0        0      174      0      0.0  ...   \n\n     cp_1  cp_2  cp_3  thal_0  thal_1  thal_2  thal_3  slope_0  slope_1  \\\n0       0     0     1       0       1       0       0        1        0   \n1       0     1     0       0       0       1       0        1        0   \n2       1     0     0       0       0       1       0        0        0   \n3       1     0     0       0       0       1       0        0        0   \n4       0     0     0       0       0       1       0        0        0   \n..    ...   ...   ...     ...     ...     ...     ...      ...      ...   \n298     0     0     0       0       0       0       1        0        1   \n299     0     0     1       0       0       0       1        0        1   \n300     0     0     0       0       0       0       1        0        1   \n301     0     0     0       0       0       0       1        0        1   \n302     1     0     0       0       0       1       0        0        1   \n\n     slope_2  \n0          0  \n1          0  \n2          1  \n3          1  \n4          1  \n..       ...  \n298        0  \n299        0  \n300        0  \n301        0  \n302        0  \n\n[303 rows x 25 columns]",
      "text/html": "<div>\n<style scoped>\n    .dataframe tbody tr th:only-of-type {\n        vertical-align: middle;\n    }\n\n    .dataframe tbody tr th {\n        vertical-align: top;\n    }\n\n    .dataframe thead th {\n        text-align: right;\n    }\n</style>\n<table border=\"1\" class=\"dataframe\">\n  <thead>\n    <tr style=\"text-align: right;\">\n      <th></th>\n      <th>age</th>\n      <th>sex</th>\n      <th>cp</th>\n      <th>trestbps</th>\n      <th>chol</th>\n      <th>fbs</th>\n      <th>restecg</th>\n      <th>thalach</th>\n      <th>exang</th>\n      <th>oldpeak</th>\n      <th>...</th>\n      <th>cp_1</th>\n      <th>cp_2</th>\n      <th>cp_3</th>\n      <th>thal_0</th>\n      <th>thal_1</th>\n      <th>thal_2</th>\n      <th>thal_3</th>\n      <th>slope_0</th>\n      <th>slope_1</th>\n      <th>slope_2</th>\n    </tr>\n  </thead>\n  <tbody>\n    <tr>\n      <th>0</th>\n      <td>63</td>\n      <td>1</td>\n      <td>3</td>\n      <td>145</td>\n      <td>233</td>\n      <td>1</td>\n      <td>0</td>\n      <td>150</td>\n      <td>0</td>\n      <td>2.3</td>\n      <td>...</td>\n      <td>0</td>\n      <td>0</td>\n      <td>1</td>\n      <td>0</td>\n      <td>1</td>\n      <td>0</td>\n      <td>0</td>\n      <td>1</td>\n      <td>0</td>\n      <td>0</td>\n    </tr>\n    <tr>\n      <th>1</th>\n      <td>37</td>\n      <td>1</td>\n      <td>2</td>\n      <td>130</td>\n      <td>250</td>\n      <td>0</td>\n      <td>1</td>\n      <td>187</td>\n      <td>0</td>\n      <td>3.5</td>\n      <td>...</td>\n      <td>0</td>\n      <td>1</td>\n      <td>0</td>\n      <td>0</td>\n      <td>0</td>\n      <td>1</td>\n      <td>0</td>\n      <td>1</td>\n      <td>0</td>\n      <td>0</td>\n    </tr>\n    <tr>\n      <th>2</th>\n      <td>41</td>\n      <td>0</td>\n      <td>1</td>\n      <td>130</td>\n      <td>204</td>\n      <td>0</td>\n      <td>0</td>\n      <td>172</td>\n      <td>0</td>\n      <td>1.4</td>\n      <td>...</td>\n      <td>1</td>\n      <td>0</td>\n      <td>0</td>\n      <td>0</td>\n      <td>0</td>\n      <td>1</td>\n      <td>0</td>\n      <td>0</td>\n      <td>0</td>\n      <td>1</td>\n    </tr>\n    <tr>\n      <th>3</th>\n      <td>56</td>\n      <td>1</td>\n      <td>1</td>\n      <td>120</td>\n      <td>236</td>\n      <td>0</td>\n      <td>1</td>\n      <td>178</td>\n      <td>0</td>\n      <td>0.8</td>\n      <td>...</td>\n      <td>1</td>\n      <td>0</td>\n      <td>0</td>\n      <td>0</td>\n      <td>0</td>\n      <td>1</td>\n      <td>0</td>\n      <td>0</td>\n      <td>0</td>\n      <td>1</td>\n    </tr>\n    <tr>\n      <th>4</th>\n      <td>57</td>\n      <td>0</td>\n      <td>0</td>\n      <td>120</td>\n      <td>354</td>\n      <td>0</td>\n      <td>1</td>\n      <td>163</td>\n      <td>1</td>\n      <td>0.6</td>\n      <td>...</td>\n      <td>0</td>\n      <td>0</td>\n      <td>0</td>\n      <td>0</td>\n      <td>0</td>\n      <td>1</td>\n      <td>0</td>\n      <td>0</td>\n      <td>0</td>\n      <td>1</td>\n    </tr>\n    <tr>\n      <th>...</th>\n      <td>...</td>\n      <td>...</td>\n      <td>...</td>\n      <td>...</td>\n      <td>...</td>\n      <td>...</td>\n      <td>...</td>\n      <td>...</td>\n      <td>...</td>\n      <td>...</td>\n      <td>...</td>\n      <td>...</td>\n      <td>...</td>\n      <td>...</td>\n      <td>...</td>\n      <td>...</td>\n      <td>...</td>\n      <td>...</td>\n      <td>...</td>\n      <td>...</td>\n      <td>...</td>\n    </tr>\n    <tr>\n      <th>298</th>\n      <td>57</td>\n      <td>0</td>\n      <td>0</td>\n      <td>140</td>\n      <td>241</td>\n      <td>0</td>\n      <td>1</td>\n      <td>123</td>\n      <td>1</td>\n      <td>0.2</td>\n      <td>...</td>\n      <td>0</td>\n      <td>0</td>\n      <td>0</td>\n      <td>0</td>\n      <td>0</td>\n      <td>0</td>\n      <td>1</td>\n      <td>0</td>\n      <td>1</td>\n      <td>0</td>\n    </tr>\n    <tr>\n      <th>299</th>\n      <td>45</td>\n      <td>1</td>\n      <td>3</td>\n      <td>110</td>\n      <td>264</td>\n      <td>0</td>\n      <td>1</td>\n      <td>132</td>\n      <td>0</td>\n      <td>1.2</td>\n      <td>...</td>\n      <td>0</td>\n      <td>0</td>\n      <td>1</td>\n      <td>0</td>\n      <td>0</td>\n      <td>0</td>\n      <td>1</td>\n      <td>0</td>\n      <td>1</td>\n      <td>0</td>\n    </tr>\n    <tr>\n      <th>300</th>\n      <td>68</td>\n      <td>1</td>\n      <td>0</td>\n      <td>144</td>\n      <td>193</td>\n      <td>1</td>\n      <td>1</td>\n      <td>141</td>\n      <td>0</td>\n      <td>3.4</td>\n      <td>...</td>\n      <td>0</td>\n      <td>0</td>\n      <td>0</td>\n      <td>0</td>\n      <td>0</td>\n      <td>0</td>\n      <td>1</td>\n      <td>0</td>\n      <td>1</td>\n      <td>0</td>\n    </tr>\n    <tr>\n      <th>301</th>\n      <td>57</td>\n      <td>1</td>\n      <td>0</td>\n      <td>130</td>\n      <td>131</td>\n      <td>0</td>\n      <td>1</td>\n      <td>115</td>\n      <td>1</td>\n      <td>1.2</td>\n      <td>...</td>\n      <td>0</td>\n      <td>0</td>\n      <td>0</td>\n      <td>0</td>\n      <td>0</td>\n      <td>0</td>\n      <td>1</td>\n      <td>0</td>\n      <td>1</td>\n      <td>0</td>\n    </tr>\n    <tr>\n      <th>302</th>\n      <td>57</td>\n      <td>0</td>\n      <td>1</td>\n      <td>130</td>\n      <td>236</td>\n      <td>0</td>\n      <td>0</td>\n      <td>174</td>\n      <td>0</td>\n      <td>0.0</td>\n      <td>...</td>\n      <td>1</td>\n      <td>0</td>\n      <td>0</td>\n      <td>0</td>\n      <td>0</td>\n      <td>1</td>\n      <td>0</td>\n      <td>0</td>\n      <td>1</td>\n      <td>0</td>\n    </tr>\n  </tbody>\n</table>\n<p>303 rows × 25 columns</p>\n</div>"
     },
     "metadata": {},
     "execution_count": 123
    }
   ],
   "source": [
    "cp = pd.get_dummies(df['cp'], prefix = \"cp\")\n",
    "thal = pd.get_dummies(df['thal'], prefix = \"thal\")\n",
    "slope = pd.get_dummies(df['slope'], prefix = \"slope\")\n",
    "df_final=pd.concat([df,cp,thal,slope],axis=1)\n",
    "df_final"
   ]
  },
  {
   "cell_type": "code",
   "execution_count": 5,
   "metadata": {},
   "outputs": [
    {
     "output_type": "execute_result",
     "data": {
      "text/plain": "   age  sex  cp  trestbps  chol  fbs  restecg  thalach  exang  oldpeak  ...  \\\n0   63    1   3       145   233    1        0      150      0      2.3  ...   \n1   37    1   2       130   250    0        1      187      0      3.5  ...   \n2   41    0   1       130   204    0        0      172      0      1.4  ...   \n3   56    1   1       120   236    0        1      178      0      0.8  ...   \n4   57    0   0       120   354    0        1      163      1      0.6  ...   \n\n   cp_1  cp_2  cp_3  thal_0  thal_1  thal_2  thal_3  slope_0  slope_1  slope_2  \n0     0     0     1       0       1       0       0        1        0        0  \n1     0     1     0       0       0       1       0        1        0        0  \n2     1     0     0       0       0       1       0        0        0        1  \n3     1     0     0       0       0       1       0        0        0        1  \n4     0     0     0       0       0       1       0        0        0        1  \n\n[5 rows x 25 columns]",
      "text/html": "<div>\n<style scoped>\n    .dataframe tbody tr th:only-of-type {\n        vertical-align: middle;\n    }\n\n    .dataframe tbody tr th {\n        vertical-align: top;\n    }\n\n    .dataframe thead th {\n        text-align: right;\n    }\n</style>\n<table border=\"1\" class=\"dataframe\">\n  <thead>\n    <tr style=\"text-align: right;\">\n      <th></th>\n      <th>age</th>\n      <th>sex</th>\n      <th>cp</th>\n      <th>trestbps</th>\n      <th>chol</th>\n      <th>fbs</th>\n      <th>restecg</th>\n      <th>thalach</th>\n      <th>exang</th>\n      <th>oldpeak</th>\n      <th>...</th>\n      <th>cp_1</th>\n      <th>cp_2</th>\n      <th>cp_3</th>\n      <th>thal_0</th>\n      <th>thal_1</th>\n      <th>thal_2</th>\n      <th>thal_3</th>\n      <th>slope_0</th>\n      <th>slope_1</th>\n      <th>slope_2</th>\n    </tr>\n  </thead>\n  <tbody>\n    <tr>\n      <th>0</th>\n      <td>63</td>\n      <td>1</td>\n      <td>3</td>\n      <td>145</td>\n      <td>233</td>\n      <td>1</td>\n      <td>0</td>\n      <td>150</td>\n      <td>0</td>\n      <td>2.3</td>\n      <td>...</td>\n      <td>0</td>\n      <td>0</td>\n      <td>1</td>\n      <td>0</td>\n      <td>1</td>\n      <td>0</td>\n      <td>0</td>\n      <td>1</td>\n      <td>0</td>\n      <td>0</td>\n    </tr>\n    <tr>\n      <th>1</th>\n      <td>37</td>\n      <td>1</td>\n      <td>2</td>\n      <td>130</td>\n      <td>250</td>\n      <td>0</td>\n      <td>1</td>\n      <td>187</td>\n      <td>0</td>\n      <td>3.5</td>\n      <td>...</td>\n      <td>0</td>\n      <td>1</td>\n      <td>0</td>\n      <td>0</td>\n      <td>0</td>\n      <td>1</td>\n      <td>0</td>\n      <td>1</td>\n      <td>0</td>\n      <td>0</td>\n    </tr>\n    <tr>\n      <th>2</th>\n      <td>41</td>\n      <td>0</td>\n      <td>1</td>\n      <td>130</td>\n      <td>204</td>\n      <td>0</td>\n      <td>0</td>\n      <td>172</td>\n      <td>0</td>\n      <td>1.4</td>\n      <td>...</td>\n      <td>1</td>\n      <td>0</td>\n      <td>0</td>\n      <td>0</td>\n      <td>0</td>\n      <td>1</td>\n      <td>0</td>\n      <td>0</td>\n      <td>0</td>\n      <td>1</td>\n    </tr>\n    <tr>\n      <th>3</th>\n      <td>56</td>\n      <td>1</td>\n      <td>1</td>\n      <td>120</td>\n      <td>236</td>\n      <td>0</td>\n      <td>1</td>\n      <td>178</td>\n      <td>0</td>\n      <td>0.8</td>\n      <td>...</td>\n      <td>1</td>\n      <td>0</td>\n      <td>0</td>\n      <td>0</td>\n      <td>0</td>\n      <td>1</td>\n      <td>0</td>\n      <td>0</td>\n      <td>0</td>\n      <td>1</td>\n    </tr>\n    <tr>\n      <th>4</th>\n      <td>57</td>\n      <td>0</td>\n      <td>0</td>\n      <td>120</td>\n      <td>354</td>\n      <td>0</td>\n      <td>1</td>\n      <td>163</td>\n      <td>1</td>\n      <td>0.6</td>\n      <td>...</td>\n      <td>0</td>\n      <td>0</td>\n      <td>0</td>\n      <td>0</td>\n      <td>0</td>\n      <td>1</td>\n      <td>0</td>\n      <td>0</td>\n      <td>0</td>\n      <td>1</td>\n    </tr>\n  </tbody>\n</table>\n<p>5 rows × 25 columns</p>\n</div>"
     },
     "metadata": {},
     "execution_count": 5
    }
   ],
   "source": []
  },
  {
   "cell_type": "code",
   "execution_count": 124,
   "metadata": {},
   "outputs": [
    {
     "output_type": "execute_result",
     "data": {
      "text/plain": "   age  sex  trestbps  chol  fbs  restecg  thalach  exang  oldpeak  ca  ...  \\\n0   63    1       145   233    1        0      150      0      2.3   0  ...   \n1   37    1       130   250    0        1      187      0      3.5   0  ...   \n2   41    0       130   204    0        0      172      0      1.4   0  ...   \n3   56    1       120   236    0        1      178      0      0.8   0  ...   \n4   57    0       120   354    0        1      163      1      0.6   0  ...   \n\n   cp_1  cp_2  cp_3  thal_0  thal_1  thal_2  thal_3  slope_0  slope_1  slope_2  \n0     0     0     1       0       1       0       0        1        0        0  \n1     0     1     0       0       0       1       0        1        0        0  \n2     1     0     0       0       0       1       0        0        0        1  \n3     1     0     0       0       0       1       0        0        0        1  \n4     0     0     0       0       0       1       0        0        0        1  \n\n[5 rows x 21 columns]",
      "text/html": "<div>\n<style scoped>\n    .dataframe tbody tr th:only-of-type {\n        vertical-align: middle;\n    }\n\n    .dataframe tbody tr th {\n        vertical-align: top;\n    }\n\n    .dataframe thead th {\n        text-align: right;\n    }\n</style>\n<table border=\"1\" class=\"dataframe\">\n  <thead>\n    <tr style=\"text-align: right;\">\n      <th></th>\n      <th>age</th>\n      <th>sex</th>\n      <th>trestbps</th>\n      <th>chol</th>\n      <th>fbs</th>\n      <th>restecg</th>\n      <th>thalach</th>\n      <th>exang</th>\n      <th>oldpeak</th>\n      <th>ca</th>\n      <th>...</th>\n      <th>cp_1</th>\n      <th>cp_2</th>\n      <th>cp_3</th>\n      <th>thal_0</th>\n      <th>thal_1</th>\n      <th>thal_2</th>\n      <th>thal_3</th>\n      <th>slope_0</th>\n      <th>slope_1</th>\n      <th>slope_2</th>\n    </tr>\n  </thead>\n  <tbody>\n    <tr>\n      <th>0</th>\n      <td>63</td>\n      <td>1</td>\n      <td>145</td>\n      <td>233</td>\n      <td>1</td>\n      <td>0</td>\n      <td>150</td>\n      <td>0</td>\n      <td>2.3</td>\n      <td>0</td>\n      <td>...</td>\n      <td>0</td>\n      <td>0</td>\n      <td>1</td>\n      <td>0</td>\n      <td>1</td>\n      <td>0</td>\n      <td>0</td>\n      <td>1</td>\n      <td>0</td>\n      <td>0</td>\n    </tr>\n    <tr>\n      <th>1</th>\n      <td>37</td>\n      <td>1</td>\n      <td>130</td>\n      <td>250</td>\n      <td>0</td>\n      <td>1</td>\n      <td>187</td>\n      <td>0</td>\n      <td>3.5</td>\n      <td>0</td>\n      <td>...</td>\n      <td>0</td>\n      <td>1</td>\n      <td>0</td>\n      <td>0</td>\n      <td>0</td>\n      <td>1</td>\n      <td>0</td>\n      <td>1</td>\n      <td>0</td>\n      <td>0</td>\n    </tr>\n    <tr>\n      <th>2</th>\n      <td>41</td>\n      <td>0</td>\n      <td>130</td>\n      <td>204</td>\n      <td>0</td>\n      <td>0</td>\n      <td>172</td>\n      <td>0</td>\n      <td>1.4</td>\n      <td>0</td>\n      <td>...</td>\n      <td>1</td>\n      <td>0</td>\n      <td>0</td>\n      <td>0</td>\n      <td>0</td>\n      <td>1</td>\n      <td>0</td>\n      <td>0</td>\n      <td>0</td>\n      <td>1</td>\n    </tr>\n    <tr>\n      <th>3</th>\n      <td>56</td>\n      <td>1</td>\n      <td>120</td>\n      <td>236</td>\n      <td>0</td>\n      <td>1</td>\n      <td>178</td>\n      <td>0</td>\n      <td>0.8</td>\n      <td>0</td>\n      <td>...</td>\n      <td>1</td>\n      <td>0</td>\n      <td>0</td>\n      <td>0</td>\n      <td>0</td>\n      <td>1</td>\n      <td>0</td>\n      <td>0</td>\n      <td>0</td>\n      <td>1</td>\n    </tr>\n    <tr>\n      <th>4</th>\n      <td>57</td>\n      <td>0</td>\n      <td>120</td>\n      <td>354</td>\n      <td>0</td>\n      <td>1</td>\n      <td>163</td>\n      <td>1</td>\n      <td>0.6</td>\n      <td>0</td>\n      <td>...</td>\n      <td>0</td>\n      <td>0</td>\n      <td>0</td>\n      <td>0</td>\n      <td>0</td>\n      <td>1</td>\n      <td>0</td>\n      <td>0</td>\n      <td>0</td>\n      <td>1</td>\n    </tr>\n  </tbody>\n</table>\n<p>5 rows × 21 columns</p>\n</div>"
     },
     "metadata": {},
     "execution_count": 124
    }
   ],
   "source": [
    "import sklearn\n",
    "y=df_final[\"target\"]\n",
    "df_final=df_final.drop([\"target\",\"cp\",\"thal\",\"slope\"],axis=1)\n",
    "x=df_final\n",
    "x.head()"
   ]
  },
  {
   "cell_type": "code",
   "execution_count": 125,
   "metadata": {
    "tags": []
   },
   "outputs": [
    {
     "output_type": "stream",
     "name": "stdout",
     "text": "age\n[63 37 41 56 57 44 52 54 48 49 64 58 50 66 43 69 59 42 61 40 71 51 65 53\n 46 45 39 47 62 34 35 29 55 60 67 68 74 76 70 38 77]\nsex\n[1 0]\ntrestbps\n[145 130 120 140 172 150 110 135 160 105 125 142 155 104 138 128 108 134\n 122 115 118 100 124  94 112 102 152 101 132 148 178 129 180 136 126 106\n 156 170 146 117 200 165 174 192 144 123 154 114 164]\nchol\n[233 250 204 236 354 192 294 263 199 168 239 275 266 211 283 219 340 226\n 247 234 243 302 212 175 417 197 198 177 273 213 304 232 269 360 308 245\n 208 264 321 325 235 257 216 256 231 141 252 201 222 260 182 303 265 309\n 186 203 183 220 209 258 227 261 221 205 240 318 298 564 277 214 248 255\n 207 223 288 160 394 315 246 244 270 195 196 254 126 313 262 215 193 271\n 268 267 210 295 306 178 242 180 228 149 278 253 342 157 286 229 284 224\n 206 167 230 335 276 353 225 330 290 172 305 188 282 185 326 274 164 307\n 249 341 407 217 174 281 289 322 299 300 293 184 409 259 200 327 237 218\n 319 166 311 169 187 176 241 131]\nfbs\n[1 0]\nrestecg\n[0 1 2]\nthalach\n[150 187 172 178 163 148 153 173 162 174 160 139 171 144 158 114 151 161\n 179 137 157 123 152 168 140 188 125 170 165 142 180 143 182 156 115 149\n 146 175 186 185 159 130 190 132 147 154 202 166 164 184 122 169 138 111\n 145 194 131 133 155 167 192 121  96 126 105 181 116 108 129 120 112 128\n 109 113  99 177 141 136  97 127 103 124  88 195 106  95 117  71 118 134\n  90]\nexang\n[0 1]\noldpeak\n[2.3 3.5 1.4 0.8 0.6 0.4 1.3 0.  0.5 1.6 1.2 0.2 1.8 1.  2.6 1.5 3.  2.4\n 0.1 1.9 4.2 1.1 2.  0.7 0.3 0.9 3.6 3.1 3.2 2.5 2.2 2.8 3.4 6.2 4.  5.6\n 2.9 2.1 3.8 4.4]\nca\n[0 2 1 3 4]\ncp_0\n[0 1]\ncp_1\n[0 1]\ncp_2\n[0 1]\ncp_3\n[1 0]\nthal_0\n[0 1]\nthal_1\n[1 0]\nthal_2\n[0 1]\nthal_3\n[0 1]\nslope_0\n[1 0]\nslope_1\n[0 1]\nslope_2\n[0 1]\n"
    }
   ],
   "source": [
    "for column in x:\n",
    "    print(column)\n",
    "    print(x[column].unique())"
   ]
  },
  {
   "cell_type": "code",
   "execution_count": 126,
   "metadata": {
    "tags": []
   },
   "outputs": [
    {
     "output_type": "stream",
     "name": "stdout",
     "text": "age          29.0\nsex           0.0\ntrestbps     94.0\nchol        126.0\nfbs           0.0\nrestecg       0.0\nthalach      71.0\nexang         0.0\noldpeak       0.0\nca            0.0\ncp_0          0.0\ncp_1          0.0\ncp_2          0.0\ncp_3          0.0\nthal_0        0.0\nthal_1        0.0\nthal_2        0.0\nthal_3        0.0\nslope_0       0.0\nslope_1       0.0\nslope_2       0.0\ndtype: float64\nage          77.0\nsex           1.0\ntrestbps    200.0\nchol        564.0\nfbs           1.0\nrestecg       2.0\nthalach     202.0\nexang         1.0\noldpeak       6.2\nca            4.0\ncp_0          1.0\ncp_1          1.0\ncp_2          1.0\ncp_3          1.0\nthal_0        1.0\nthal_1        1.0\nthal_2        1.0\nthal_3        1.0\nslope_0       1.0\nslope_1       1.0\nslope_2       1.0\ndtype: float64\n"
    }
   ],
   "source": [
    "print(np.min(x))\n",
    "print(np.max(x))\n",
    "minimum=np.min(x)\n",
    "maximum=np.max(x)"
   ]
  },
  {
   "cell_type": "code",
   "execution_count": 127,
   "metadata": {
    "tags": []
   },
   "outputs": [],
   "source": [
    "x = (x - np.min(x)) / (np.max(x) - np.min(x)).values\n"
   ]
  },
  {
   "cell_type": "code",
   "execution_count": 128,
   "metadata": {},
   "outputs": [],
   "source": [
    "from sklearn import model_selection,linear_model\n",
    "x_train,x_test,y_train,y_test=model_selection.train_test_split(x,y, test_size=0.20,random_state=5)\n",
    "model=sklearn.linear_model.LogisticRegression()"
   ]
  },
  {
   "cell_type": "code",
   "execution_count": 129,
   "metadata": {},
   "outputs": [],
   "source": [
    "model=model.fit(x_train,y_train)"
   ]
  },
  {
   "cell_type": "code",
   "execution_count": 130,
   "metadata": {},
   "outputs": [],
   "source": [
    "y_pred=model.predict(x_test)"
   ]
  },
  {
   "cell_type": "code",
   "execution_count": 131,
   "metadata": {},
   "outputs": [
    {
     "output_type": "execute_result",
     "data": {
      "text/plain": "90.1639344262295"
     },
     "metadata": {},
     "execution_count": 131
    }
   ],
   "source": [
    "((100 - np.mean(np.abs(y_pred - y_test))*100))"
   ]
  },
  {
   "cell_type": "code",
   "execution_count": 132,
   "metadata": {
    "tags": []
   },
   "outputs": [
    {
     "output_type": "stream",
     "name": "stdout",
     "text": "Accuracy of Naive Bayes: 77.05%\n"
    }
   ],
   "source": [
    "from sklearn.naive_bayes import GaussianNB\n",
    "nb = GaussianNB()\n",
    "nb.fit(x_train, y_train)\n",
    "\n",
    "acc = nb.score(x_test,y_test)*100\n",
    "print(\"Accuracy of Naive Bayes: {:.2f}%\".format(acc))"
   ]
  },
  {
   "cell_type": "code",
   "execution_count": 133,
   "metadata": {
    "tags": []
   },
   "outputs": [
    {
     "output_type": "stream",
     "name": "stdout",
     "text": "Random Forest Algorithm Accuracy Score : 90.16%\n"
    }
   ],
   "source": [
    "from sklearn.ensemble import RandomForestClassifier\n",
    "rf = RandomForestClassifier(n_estimators = 1000, random_state = 1)\n",
    "rf.fit(x_train, y_train)\n",
    "\n",
    "acc = rf.score(x_test,y_test)*100\n",
    "print(\"Random Forest Algorithm Accuracy Score : {:.2f}%\".format(acc))\n"
   ]
  },
  {
   "cell_type": "code",
   "execution_count": 134,
   "metadata": {},
   "outputs": [],
   "source": [
    "import pickle\n",
    "f=open(\"model.pkl\",'wb')\n",
    "pickle.dump(model,f)\n",
    "f.close()"
   ]
  },
  {
   "cell_type": "code",
   "execution_count": 135,
   "metadata": {},
   "outputs": [
    {
     "output_type": "execute_result",
     "data": {
      "text/plain": "          age  sex  trestbps      chol  fbs  restecg   thalach  exang  \\\n266  0.541667  0.0  0.811321  0.458904  0.0      1.0  0.351145    1.0   \n215  0.291667  0.0  0.358491  0.490868  1.0      0.0  0.496183    1.0   \n99   0.500000  1.0  0.339623  0.273973  1.0      0.0  0.778626    0.0   \n119  0.354167  0.0  0.415094  0.267123  0.0      0.0  0.618321    1.0   \n11   0.395833  0.0  0.339623  0.340183  0.0      0.5  0.519084    0.0   \n..        ...  ...       ...       ...  ...      ...       ...    ...   \n8    0.479167  1.0  0.735849  0.166667  1.0      0.5  0.694656    0.0   \n73   0.458333  1.0  0.433962  0.308219  0.0      0.0  0.877863    1.0   \n118  0.354167  0.0  0.103774  0.178082  0.0      0.5  0.770992    0.0   \n189  0.250000  1.0  0.150943  0.105023  0.0      0.0  0.664122    0.0   \n206  0.625000  1.0  0.150943  0.257991  0.0      0.0  0.541985    1.0   \n\n      oldpeak    ca  ...  cp_1  cp_2  cp_3  thal_0  thal_1  thal_2  thal_3  \\\n266  0.548387  0.00  ...   0.0   0.0   0.0     0.0     0.0     1.0     0.0   \n215  0.483871  0.00  ...   0.0   0.0   0.0     0.0     0.0     0.0     1.0   \n99   0.000000  0.75  ...   0.0   1.0   0.0     0.0     0.0     1.0     0.0   \n119  0.000000  0.00  ...   0.0   0.0   0.0     0.0     0.0     1.0     0.0   \n11   0.032258  0.00  ...   0.0   1.0   0.0     0.0     0.0     1.0     0.0   \n..        ...   ...  ...   ...   ...   ...     ...     ...     ...     ...   \n8    0.080645  0.00  ...   0.0   1.0   0.0     0.0     0.0     0.0     1.0   \n73   0.000000  0.00  ...   0.0   0.0   0.0     0.0     0.0     1.0     0.0   \n118  0.000000  0.00  ...   1.0   0.0   0.0     0.0     0.0     1.0     0.0   \n189  0.000000  0.00  ...   0.0   0.0   0.0     0.0     0.0     0.0     1.0   \n206  0.193548  0.25  ...   0.0   0.0   0.0     0.0     0.0     0.0     1.0   \n\n     slope_0  slope_1  slope_2  \n266      0.0      1.0      0.0  \n215      0.0      1.0      0.0  \n99       0.0      0.0      1.0  \n119      0.0      1.0      0.0  \n11       0.0      0.0      1.0  \n..       ...      ...      ...  \n8        0.0      0.0      1.0  \n73       0.0      0.0      1.0  \n118      0.0      0.0      1.0  \n189      0.0      0.0      1.0  \n206      0.0      1.0      0.0  \n\n[242 rows x 21 columns]",
      "text/html": "<div>\n<style scoped>\n    .dataframe tbody tr th:only-of-type {\n        vertical-align: middle;\n    }\n\n    .dataframe tbody tr th {\n        vertical-align: top;\n    }\n\n    .dataframe thead th {\n        text-align: right;\n    }\n</style>\n<table border=\"1\" class=\"dataframe\">\n  <thead>\n    <tr style=\"text-align: right;\">\n      <th></th>\n      <th>age</th>\n      <th>sex</th>\n      <th>trestbps</th>\n      <th>chol</th>\n      <th>fbs</th>\n      <th>restecg</th>\n      <th>thalach</th>\n      <th>exang</th>\n      <th>oldpeak</th>\n      <th>ca</th>\n      <th>...</th>\n      <th>cp_1</th>\n      <th>cp_2</th>\n      <th>cp_3</th>\n      <th>thal_0</th>\n      <th>thal_1</th>\n      <th>thal_2</th>\n      <th>thal_3</th>\n      <th>slope_0</th>\n      <th>slope_1</th>\n      <th>slope_2</th>\n    </tr>\n  </thead>\n  <tbody>\n    <tr>\n      <th>266</th>\n      <td>0.541667</td>\n      <td>0.0</td>\n      <td>0.811321</td>\n      <td>0.458904</td>\n      <td>0.0</td>\n      <td>1.0</td>\n      <td>0.351145</td>\n      <td>1.0</td>\n      <td>0.548387</td>\n      <td>0.00</td>\n      <td>...</td>\n      <td>0.0</td>\n      <td>0.0</td>\n      <td>0.0</td>\n      <td>0.0</td>\n      <td>0.0</td>\n      <td>1.0</td>\n      <td>0.0</td>\n      <td>0.0</td>\n      <td>1.0</td>\n      <td>0.0</td>\n    </tr>\n    <tr>\n      <th>215</th>\n      <td>0.291667</td>\n      <td>0.0</td>\n      <td>0.358491</td>\n      <td>0.490868</td>\n      <td>1.0</td>\n      <td>0.0</td>\n      <td>0.496183</td>\n      <td>1.0</td>\n      <td>0.483871</td>\n      <td>0.00</td>\n      <td>...</td>\n      <td>0.0</td>\n      <td>0.0</td>\n      <td>0.0</td>\n      <td>0.0</td>\n      <td>0.0</td>\n      <td>0.0</td>\n      <td>1.0</td>\n      <td>0.0</td>\n      <td>1.0</td>\n      <td>0.0</td>\n    </tr>\n    <tr>\n      <th>99</th>\n      <td>0.500000</td>\n      <td>1.0</td>\n      <td>0.339623</td>\n      <td>0.273973</td>\n      <td>1.0</td>\n      <td>0.0</td>\n      <td>0.778626</td>\n      <td>0.0</td>\n      <td>0.000000</td>\n      <td>0.75</td>\n      <td>...</td>\n      <td>0.0</td>\n      <td>1.0</td>\n      <td>0.0</td>\n      <td>0.0</td>\n      <td>0.0</td>\n      <td>1.0</td>\n      <td>0.0</td>\n      <td>0.0</td>\n      <td>0.0</td>\n      <td>1.0</td>\n    </tr>\n    <tr>\n      <th>119</th>\n      <td>0.354167</td>\n      <td>0.0</td>\n      <td>0.415094</td>\n      <td>0.267123</td>\n      <td>0.0</td>\n      <td>0.0</td>\n      <td>0.618321</td>\n      <td>1.0</td>\n      <td>0.000000</td>\n      <td>0.00</td>\n      <td>...</td>\n      <td>0.0</td>\n      <td>0.0</td>\n      <td>0.0</td>\n      <td>0.0</td>\n      <td>0.0</td>\n      <td>1.0</td>\n      <td>0.0</td>\n      <td>0.0</td>\n      <td>1.0</td>\n      <td>0.0</td>\n    </tr>\n    <tr>\n      <th>11</th>\n      <td>0.395833</td>\n      <td>0.0</td>\n      <td>0.339623</td>\n      <td>0.340183</td>\n      <td>0.0</td>\n      <td>0.5</td>\n      <td>0.519084</td>\n      <td>0.0</td>\n      <td>0.032258</td>\n      <td>0.00</td>\n      <td>...</td>\n      <td>0.0</td>\n      <td>1.0</td>\n      <td>0.0</td>\n      <td>0.0</td>\n      <td>0.0</td>\n      <td>1.0</td>\n      <td>0.0</td>\n      <td>0.0</td>\n      <td>0.0</td>\n      <td>1.0</td>\n    </tr>\n    <tr>\n      <th>...</th>\n      <td>...</td>\n      <td>...</td>\n      <td>...</td>\n      <td>...</td>\n      <td>...</td>\n      <td>...</td>\n      <td>...</td>\n      <td>...</td>\n      <td>...</td>\n      <td>...</td>\n      <td>...</td>\n      <td>...</td>\n      <td>...</td>\n      <td>...</td>\n      <td>...</td>\n      <td>...</td>\n      <td>...</td>\n      <td>...</td>\n      <td>...</td>\n      <td>...</td>\n      <td>...</td>\n    </tr>\n    <tr>\n      <th>8</th>\n      <td>0.479167</td>\n      <td>1.0</td>\n      <td>0.735849</td>\n      <td>0.166667</td>\n      <td>1.0</td>\n      <td>0.5</td>\n      <td>0.694656</td>\n      <td>0.0</td>\n      <td>0.080645</td>\n      <td>0.00</td>\n      <td>...</td>\n      <td>0.0</td>\n      <td>1.0</td>\n      <td>0.0</td>\n      <td>0.0</td>\n      <td>0.0</td>\n      <td>0.0</td>\n      <td>1.0</td>\n      <td>0.0</td>\n      <td>0.0</td>\n      <td>1.0</td>\n    </tr>\n    <tr>\n      <th>73</th>\n      <td>0.458333</td>\n      <td>1.0</td>\n      <td>0.433962</td>\n      <td>0.308219</td>\n      <td>0.0</td>\n      <td>0.0</td>\n      <td>0.877863</td>\n      <td>1.0</td>\n      <td>0.000000</td>\n      <td>0.00</td>\n      <td>...</td>\n      <td>0.0</td>\n      <td>0.0</td>\n      <td>0.0</td>\n      <td>0.0</td>\n      <td>0.0</td>\n      <td>1.0</td>\n      <td>0.0</td>\n      <td>0.0</td>\n      <td>0.0</td>\n      <td>1.0</td>\n    </tr>\n    <tr>\n      <th>118</th>\n      <td>0.354167</td>\n      <td>0.0</td>\n      <td>0.103774</td>\n      <td>0.178082</td>\n      <td>0.0</td>\n      <td>0.5</td>\n      <td>0.770992</td>\n      <td>0.0</td>\n      <td>0.000000</td>\n      <td>0.00</td>\n      <td>...</td>\n      <td>1.0</td>\n      <td>0.0</td>\n      <td>0.0</td>\n      <td>0.0</td>\n      <td>0.0</td>\n      <td>1.0</td>\n      <td>0.0</td>\n      <td>0.0</td>\n      <td>0.0</td>\n      <td>1.0</td>\n    </tr>\n    <tr>\n      <th>189</th>\n      <td>0.250000</td>\n      <td>1.0</td>\n      <td>0.150943</td>\n      <td>0.105023</td>\n      <td>0.0</td>\n      <td>0.0</td>\n      <td>0.664122</td>\n      <td>0.0</td>\n      <td>0.000000</td>\n      <td>0.00</td>\n      <td>...</td>\n      <td>0.0</td>\n      <td>0.0</td>\n      <td>0.0</td>\n      <td>0.0</td>\n      <td>0.0</td>\n      <td>0.0</td>\n      <td>1.0</td>\n      <td>0.0</td>\n      <td>0.0</td>\n      <td>1.0</td>\n    </tr>\n    <tr>\n      <th>206</th>\n      <td>0.625000</td>\n      <td>1.0</td>\n      <td>0.150943</td>\n      <td>0.257991</td>\n      <td>0.0</td>\n      <td>0.0</td>\n      <td>0.541985</td>\n      <td>1.0</td>\n      <td>0.193548</td>\n      <td>0.25</td>\n      <td>...</td>\n      <td>0.0</td>\n      <td>0.0</td>\n      <td>0.0</td>\n      <td>0.0</td>\n      <td>0.0</td>\n      <td>0.0</td>\n      <td>1.0</td>\n      <td>0.0</td>\n      <td>1.0</td>\n      <td>0.0</td>\n    </tr>\n  </tbody>\n</table>\n<p>242 rows × 21 columns</p>\n</div>"
     },
     "metadata": {},
     "execution_count": 135
    }
   ],
   "source": [
    "x_train"
   ]
  },
  {
   "cell_type": "code",
   "execution_count": 150,
   "metadata": {},
   "outputs": [],
   "source": [
    "max_min=[np.array(maximum),np.array(minimum)]\n",
    "f=open(\"max_min.pkl\",'wb')\n",
    "pickle.dump(max_min,f)\n",
    "f.close()"
   ]
  },
  {
   "cell_type": "code",
   "execution_count": 156,
   "metadata": {
    "tags": []
   },
   "outputs": [
    {
     "output_type": "stream",
     "name": "stdout",
     "text": "294\nage       0.312500\nsex       1.000000\ntrestbps  0.245283\nchol      0.098174\nfbs       0.000000\nrestecg   0.500000\nthalach   0.557252\nexang     1.000000\noldpeak   0.451613\nca        0.000000\ncp_0      1.000000\ncp_1      0.000000\ncp_2      0.000000\ncp_3      0.000000\nthal_0    0.000000\nthal_1    1.000000\nthal_2    0.000000\nthal_3    0.000000\nslope_0   1.000000\nslope_1   0.000000\nslope_2   0.000000\n"
    }
   ],
   "source": [
    "print(x_train.iloc[[200]].T)"
   ]
  },
  {
   "cell_type": "code",
   "execution_count": null,
   "metadata": {},
   "outputs": [],
   "source": []
  }
 ]
}